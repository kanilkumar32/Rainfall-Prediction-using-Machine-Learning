{
 "cells": [
  {
   "cell_type": "markdown",
   "id": "minor-luxembourg",
   "metadata": {},
   "source": [
    "# Catboost Classifier"
   ]
  },
  {
   "cell_type": "markdown",
   "id": "renewable-indie",
   "metadata": {},
   "source": [
    "## Importing the necessary libraries"
   ]
  },
  {
   "cell_type": "code",
   "execution_count": 15,
   "id": "proof-rendering",
   "metadata": {},
   "outputs": [],
   "source": [
    "import numpy as np\n",
    "import pandas as pd\n",
    "import matplotlib.pyplot as plt\n",
    "import seaborn as sns\n",
    "from sklearn import preprocessing\n",
    "import scipy.stats as stats\n",
    "from sklearn.model_selection import train_test_split\n",
    "from collections import Counter\n",
    "from sklearn.metrics import accuracy_score,confusion_matrix,classification_report\n",
    "from sklearn import metrics\n",
    "from catboost import CatBoostClassifier\n",
    "from sklearn.model_selection import RandomizedSearchCV\n",
    "import joblib"
   ]
  },
  {
   "cell_type": "markdown",
   "id": "likely-montreal",
   "metadata": {},
   "source": [
    "## Loading the Processed Dataset"
   ]
  },
  {
   "cell_type": "code",
   "execution_count": 16,
   "id": "handed-lightweight",
   "metadata": {},
   "outputs": [],
   "source": [
    "data = pd.read_csv(\"preprocessed.csv\")"
   ]
  },
  {
   "cell_type": "code",
   "execution_count": 17,
   "id": "minus-material",
   "metadata": {},
   "outputs": [
    {
     "data": {
      "text/html": [
       "<div>\n",
       "<style scoped>\n",
       "    .dataframe tbody tr th:only-of-type {\n",
       "        vertical-align: middle;\n",
       "    }\n",
       "\n",
       "    .dataframe tbody tr th {\n",
       "        vertical-align: top;\n",
       "    }\n",
       "\n",
       "    .dataframe thead th {\n",
       "        text-align: right;\n",
       "    }\n",
       "</style>\n",
       "<table border=\"1\" class=\"dataframe\">\n",
       "  <thead>\n",
       "    <tr style=\"text-align: right;\">\n",
       "      <th></th>\n",
       "      <th>Date</th>\n",
       "      <th>Location</th>\n",
       "      <th>MinTemp</th>\n",
       "      <th>MaxTemp</th>\n",
       "      <th>Rainfall</th>\n",
       "      <th>Evaporation</th>\n",
       "      <th>Sunshine</th>\n",
       "      <th>WindGustDir</th>\n",
       "      <th>WindGustSpeed</th>\n",
       "      <th>WindDir9am</th>\n",
       "      <th>...</th>\n",
       "      <th>Pressure9am</th>\n",
       "      <th>Pressure3pm</th>\n",
       "      <th>Cloud9am</th>\n",
       "      <th>Cloud3pm</th>\n",
       "      <th>Temp9am</th>\n",
       "      <th>Temp3pm</th>\n",
       "      <th>RainToday</th>\n",
       "      <th>RainTomorrow</th>\n",
       "      <th>Date_month</th>\n",
       "      <th>Date_day</th>\n",
       "    </tr>\n",
       "  </thead>\n",
       "  <tbody>\n",
       "    <tr>\n",
       "      <th>0</th>\n",
       "      <td>2008-12-01</td>\n",
       "      <td>30</td>\n",
       "      <td>13.4</td>\n",
       "      <td>22.9</td>\n",
       "      <td>0.6</td>\n",
       "      <td>2.4</td>\n",
       "      <td>8.3</td>\n",
       "      <td>4.0</td>\n",
       "      <td>44.0</td>\n",
       "      <td>5.0</td>\n",
       "      <td>...</td>\n",
       "      <td>1007.7</td>\n",
       "      <td>1007.1</td>\n",
       "      <td>8.0</td>\n",
       "      <td>7.0</td>\n",
       "      <td>16.9</td>\n",
       "      <td>21.8</td>\n",
       "      <td>0</td>\n",
       "      <td>0</td>\n",
       "      <td>12</td>\n",
       "      <td>1</td>\n",
       "    </tr>\n",
       "    <tr>\n",
       "      <th>1</th>\n",
       "      <td>2008-12-02</td>\n",
       "      <td>30</td>\n",
       "      <td>7.4</td>\n",
       "      <td>25.1</td>\n",
       "      <td>0.0</td>\n",
       "      <td>3.6</td>\n",
       "      <td>10.0</td>\n",
       "      <td>2.0</td>\n",
       "      <td>44.0</td>\n",
       "      <td>0.0</td>\n",
       "      <td>...</td>\n",
       "      <td>1010.6</td>\n",
       "      <td>1007.8</td>\n",
       "      <td>7.0</td>\n",
       "      <td>7.0</td>\n",
       "      <td>17.2</td>\n",
       "      <td>24.3</td>\n",
       "      <td>0</td>\n",
       "      <td>0</td>\n",
       "      <td>12</td>\n",
       "      <td>2</td>\n",
       "    </tr>\n",
       "    <tr>\n",
       "      <th>2</th>\n",
       "      <td>2008-12-03</td>\n",
       "      <td>30</td>\n",
       "      <td>12.9</td>\n",
       "      <td>25.7</td>\n",
       "      <td>0.0</td>\n",
       "      <td>2.6</td>\n",
       "      <td>4.4</td>\n",
       "      <td>5.0</td>\n",
       "      <td>46.0</td>\n",
       "      <td>5.0</td>\n",
       "      <td>...</td>\n",
       "      <td>1007.6</td>\n",
       "      <td>1008.7</td>\n",
       "      <td>7.0</td>\n",
       "      <td>2.0</td>\n",
       "      <td>21.0</td>\n",
       "      <td>23.2</td>\n",
       "      <td>0</td>\n",
       "      <td>0</td>\n",
       "      <td>12</td>\n",
       "      <td>3</td>\n",
       "    </tr>\n",
       "    <tr>\n",
       "      <th>3</th>\n",
       "      <td>2008-12-04</td>\n",
       "      <td>30</td>\n",
       "      <td>9.2</td>\n",
       "      <td>28.0</td>\n",
       "      <td>0.0</td>\n",
       "      <td>14.6</td>\n",
       "      <td>8.9</td>\n",
       "      <td>11.0</td>\n",
       "      <td>24.0</td>\n",
       "      <td>13.0</td>\n",
       "      <td>...</td>\n",
       "      <td>1017.6</td>\n",
       "      <td>1012.8</td>\n",
       "      <td>7.0</td>\n",
       "      <td>7.0</td>\n",
       "      <td>18.1</td>\n",
       "      <td>26.5</td>\n",
       "      <td>0</td>\n",
       "      <td>0</td>\n",
       "      <td>12</td>\n",
       "      <td>4</td>\n",
       "    </tr>\n",
       "    <tr>\n",
       "      <th>4</th>\n",
       "      <td>2008-12-05</td>\n",
       "      <td>30</td>\n",
       "      <td>17.5</td>\n",
       "      <td>32.3</td>\n",
       "      <td>1.0</td>\n",
       "      <td>5.4</td>\n",
       "      <td>3.0</td>\n",
       "      <td>4.0</td>\n",
       "      <td>41.0</td>\n",
       "      <td>12.0</td>\n",
       "      <td>...</td>\n",
       "      <td>1010.8</td>\n",
       "      <td>1006.0</td>\n",
       "      <td>7.0</td>\n",
       "      <td>8.0</td>\n",
       "      <td>17.8</td>\n",
       "      <td>29.7</td>\n",
       "      <td>0</td>\n",
       "      <td>0</td>\n",
       "      <td>12</td>\n",
       "      <td>5</td>\n",
       "    </tr>\n",
       "  </tbody>\n",
       "</table>\n",
       "<p>5 rows × 25 columns</p>\n",
       "</div>"
      ],
      "text/plain": [
       "         Date  Location  MinTemp  MaxTemp  Rainfall  Evaporation  Sunshine   \n",
       "0  2008-12-01        30     13.4     22.9       0.6          2.4       8.3  \\\n",
       "1  2008-12-02        30      7.4     25.1       0.0          3.6      10.0   \n",
       "2  2008-12-03        30     12.9     25.7       0.0          2.6       4.4   \n",
       "3  2008-12-04        30      9.2     28.0       0.0         14.6       8.9   \n",
       "4  2008-12-05        30     17.5     32.3       1.0          5.4       3.0   \n",
       "\n",
       "   WindGustDir  WindGustSpeed  WindDir9am  ...  Pressure9am  Pressure3pm   \n",
       "0          4.0           44.0         5.0  ...       1007.7       1007.1  \\\n",
       "1          2.0           44.0         0.0  ...       1010.6       1007.8   \n",
       "2          5.0           46.0         5.0  ...       1007.6       1008.7   \n",
       "3         11.0           24.0        13.0  ...       1017.6       1012.8   \n",
       "4          4.0           41.0        12.0  ...       1010.8       1006.0   \n",
       "\n",
       "   Cloud9am  Cloud3pm  Temp9am  Temp3pm  RainToday  RainTomorrow  Date_month   \n",
       "0       8.0       7.0     16.9     21.8          0             0          12  \\\n",
       "1       7.0       7.0     17.2     24.3          0             0          12   \n",
       "2       7.0       2.0     21.0     23.2          0             0          12   \n",
       "3       7.0       7.0     18.1     26.5          0             0          12   \n",
       "4       7.0       8.0     17.8     29.7          0             0          12   \n",
       "\n",
       "   Date_day  \n",
       "0         1  \n",
       "1         2  \n",
       "2         3  \n",
       "3         4  \n",
       "4         5  \n",
       "\n",
       "[5 rows x 25 columns]"
      ]
     },
     "execution_count": 17,
     "metadata": {},
     "output_type": "execute_result"
    }
   ],
   "source": [
    "data.head()"
   ]
  },
  {
   "cell_type": "code",
   "execution_count": 18,
   "id": "honey-restoration",
   "metadata": {},
   "outputs": [
    {
     "data": {
      "text/plain": [
       "(145460, 25)"
      ]
     },
     "execution_count": 18,
     "metadata": {},
     "output_type": "execute_result"
    }
   ],
   "source": [
    "data.shape"
   ]
  },
  {
   "cell_type": "code",
   "execution_count": 19,
   "id": "copyrighted-contract",
   "metadata": {},
   "outputs": [],
   "source": [
    "df = data.sample(n = 12000)"
   ]
  },
  {
   "cell_type": "code",
   "execution_count": 20,
   "id": "descending-choir",
   "metadata": {},
   "outputs": [
    {
     "data": {
      "text/plain": [
       "(12000, 25)"
      ]
     },
     "execution_count": 20,
     "metadata": {},
     "output_type": "execute_result"
    }
   ],
   "source": [
    "df.shape"
   ]
  },
  {
   "cell_type": "markdown",
   "id": "cultural-clearing",
   "metadata": {},
   "source": [
    "## Dividing the dataset into Independent and Dependent features"
   ]
  },
  {
   "cell_type": "code",
   "execution_count": 7,
   "id": "genetic-philippines",
   "metadata": {},
   "outputs": [],
   "source": [
    "X = df.drop([\"RainTomorrow\", \"Date\"], axis=1)\n",
    "y = df[\"RainTomorrow\"]"
   ]
  },
  {
   "cell_type": "markdown",
   "id": "matched-treat",
   "metadata": {},
   "source": [
    "### Train test split"
   ]
  },
  {
   "cell_type": "code",
   "execution_count": 21,
   "id": "living-calendar",
   "metadata": {},
   "outputs": [],
   "source": [
    "X_train, X_test, y_train, y_test = train_test_split(X,y, test_size =0.2, stratify = y, random_state = 0)"
   ]
  },
  {
   "cell_type": "code",
   "execution_count": 22,
   "id": "plastic-block",
   "metadata": {},
   "outputs": [
    {
     "data": {
      "text/plain": [
       "138485    0\n",
       "101583    0\n",
       "79033     0\n",
       "135684    1\n",
       "62943     0\n",
       "         ..\n",
       "110895    1\n",
       "108693    0\n",
       "59033     0\n",
       "2199      0\n",
       "37479     0\n",
       "Name: RainTomorrow, Length: 9600, dtype: int64"
      ]
     },
     "execution_count": 22,
     "metadata": {},
     "output_type": "execute_result"
    }
   ],
   "source": [
    "y_train"
   ]
  },
  {
   "cell_type": "markdown",
   "id": "distinct-consumer",
   "metadata": {},
   "source": [
    "## Handling imbalanced dataset"
   ]
  },
  {
   "cell_type": "markdown",
   "id": "rocky-bahrain",
   "metadata": {},
   "source": [
    "### Catboost Classifier"
   ]
  },
  {
   "cell_type": "code",
   "execution_count": 23,
   "id": "beneficial-direction",
   "metadata": {},
   "outputs": [
    {
     "name": "stdout",
     "output_type": "stream",
     "text": [
      "Learning rate set to 0.5\n",
      "0:\ttotal: 4.93ms\tremaining: 118ms\n",
      "1:\ttotal: 13.1ms\tremaining: 151ms\n",
      "2:\ttotal: 17.3ms\tremaining: 127ms\n",
      "3:\ttotal: 21.5ms\tremaining: 113ms\n",
      "4:\ttotal: 28.9ms\tremaining: 115ms\n",
      "5:\ttotal: 33.1ms\tremaining: 105ms\n",
      "6:\ttotal: 37.6ms\tremaining: 96.6ms\n",
      "7:\ttotal: 45.4ms\tremaining: 96.4ms\n",
      "8:\ttotal: 51.1ms\tremaining: 90.8ms\n",
      "9:\ttotal: 56ms\tremaining: 84ms\n",
      "10:\ttotal: 62.8ms\tremaining: 80ms\n",
      "11:\ttotal: 69.4ms\tremaining: 75.1ms\n",
      "12:\ttotal: 74.9ms\tremaining: 69.2ms\n",
      "13:\ttotal: 80.9ms\tremaining: 63.6ms\n",
      "14:\ttotal: 85.3ms\tremaining: 56.9ms\n",
      "15:\ttotal: 92.5ms\tremaining: 52ms\n",
      "16:\ttotal: 96.9ms\tremaining: 45.6ms\n",
      "17:\ttotal: 102ms\tremaining: 39.5ms\n",
      "18:\ttotal: 107ms\tremaining: 33.8ms\n",
      "19:\ttotal: 112ms\tremaining: 28ms\n",
      "20:\ttotal: 116ms\tremaining: 22.2ms\n",
      "21:\ttotal: 121ms\tremaining: 16.5ms\n",
      "22:\ttotal: 127ms\tremaining: 11ms\n",
      "23:\ttotal: 131ms\tremaining: 5.46ms\n",
      "24:\ttotal: 136ms\tremaining: 0us\n"
     ]
    },
    {
     "data": {
      "text/plain": [
       "<catboost.core.CatBoostClassifier at 0x29fce0b2d50>"
      ]
     },
     "execution_count": 23,
     "metadata": {},
     "output_type": "execute_result"
    }
   ],
   "source": [
    "cat = CatBoostClassifier(iterations=25, eval_metric = \"AUC\")\n",
    "cat.fit(X_train, y_train)"
   ]
  },
  {
   "cell_type": "code",
   "execution_count": 24,
   "id": "changed-female",
   "metadata": {},
   "outputs": [
    {
     "name": "stdout",
     "output_type": "stream",
     "text": [
      "[[1805   87]\n",
      " [ 287  221]]\n",
      "0.8441666666666666\n",
      "              precision    recall  f1-score   support\n",
      "\n",
      "           0       0.86      0.95      0.91      1892\n",
      "           1       0.72      0.44      0.54       508\n",
      "\n",
      "    accuracy                           0.84      2400\n",
      "   macro avg       0.79      0.69      0.72      2400\n",
      "weighted avg       0.83      0.84      0.83      2400\n",
      "\n"
     ]
    }
   ],
   "source": [
    "y_pred = cat.predict(X_test)\n",
    "print(confusion_matrix(y_test,y_pred))\n",
    "print(accuracy_score(y_test,y_pred))\n",
    "print(classification_report(y_test,y_pred))"
   ]
  },
  {
   "cell_type": "code",
   "execution_count": 25,
   "id": "comparative-newman",
   "metadata": {},
   "outputs": [
    {
     "data": {
      "text/plain": [
       "0.6945281416989896"
      ]
     },
     "execution_count": 25,
     "metadata": {},
     "output_type": "execute_result"
    }
   ],
   "source": [
    "metrics.roc_auc_score(y_test, y_pred, average=None)"
   ]
  },
  {
   "cell_type": "markdown",
   "id": "ready-onion",
   "metadata": {},
   "source": [
    "## Hyperparameter Optimization"
   ]
  },
  {
   "cell_type": "code",
   "execution_count": 26,
   "id": "corporate-confusion",
   "metadata": {},
   "outputs": [],
   "source": [
    "#Randomized Search CV\n",
    "\n",
    "# Number of trees in random forest\n",
    "n_estimators = [int(x) for x in np.linspace(start = 100, stop = 1200, num = 12)]\n",
    "# Various learning rate parameters\n",
    "learning_rate = [0.05,0.1, 0.2,0.3,0.5,0.6]\n",
    "# Maximum number of levels in tree\n",
    "max_depth = [int(x) for x in np.linspace(5, 30, num = 6)]\n",
    "# max_depth.append(None)\n",
    "#Subssample parameter values\n",
    "subsample=[0.7,0.6,0.8]\n",
    "# Minimum child samples parameters\n",
    "min_child_samples=[3,4,5,6,7]"
   ]
  },
  {
   "cell_type": "code",
   "execution_count": 27,
   "id": "polar-interim",
   "metadata": {},
   "outputs": [
    {
     "name": "stdout",
     "output_type": "stream",
     "text": [
      "{'n_estimators': [100, 200, 300, 400, 500, 600, 700, 800, 900, 1000, 1100, 1200], 'learning_rate': [0.05, 0.1, 0.2, 0.3, 0.5, 0.6], 'max_depth': [5, 10, 15, 20, 25, 30], 'subsample': [0.7, 0.6, 0.8], 'min_child_samples': [3, 4, 5, 6, 7]}\n"
     ]
    }
   ],
   "source": [
    "# Create the random grid\n",
    "random_grid = {'n_estimators': n_estimators,\n",
    "               'learning_rate': learning_rate,\n",
    "               'max_depth': max_depth,\n",
    "               'subsample': subsample,\n",
    "               'min_child_samples': min_child_samples}\n",
    "\n",
    "print(random_grid)"
   ]
  },
  {
   "cell_type": "code",
   "execution_count": 28,
   "id": "related-italy",
   "metadata": {},
   "outputs": [],
   "source": [
    "# Use the random grid to search for best hyperparameters\n",
    "# First create the base model to tune\n",
    "cat = CatBoostClassifier()"
   ]
  },
  {
   "cell_type": "code",
   "execution_count": 29,
   "id": "brazilian-mechanics",
   "metadata": {},
   "outputs": [],
   "source": [
    "# Random search of parameters, using 3 fold cross validation, \n",
    "# search across 100 different combinations\n",
    "cat_random = RandomizedSearchCV(estimator = cat, param_distributions = random_grid, n_iter = 5, cv = 3, verbose=2, random_state=100, n_jobs = -1)"
   ]
  },
  {
   "cell_type": "code",
   "execution_count": 30,
   "id": "hawaiian-worthy",
   "metadata": {},
   "outputs": [
    {
     "name": "stdout",
     "output_type": "stream",
     "text": [
      "Fitting 3 folds for each of 5 candidates, totalling 15 fits\n"
     ]
    },
    {
     "name": "stderr",
     "output_type": "stream",
     "text": [
      "c:\\Users\\konda\\AppData\\Local\\Programs\\Python\\Python311\\Lib\\site-packages\\sklearn\\model_selection\\_validation.py:378: FitFailedWarning: \n",
      "9 fits failed out of a total of 15.\n",
      "The score on these train-test partitions for these parameters will be set to nan.\n",
      "If these failures are not expected, you can try to debug them by setting error_score='raise'.\n",
      "\n",
      "Below are more details about the failures:\n",
      "--------------------------------------------------------------------------------\n",
      "9 fits failed with the following error:\n",
      "Traceback (most recent call last):\n",
      "  File \"c:\\Users\\konda\\AppData\\Local\\Programs\\Python\\Python311\\Lib\\site-packages\\sklearn\\model_selection\\_validation.py\", line 686, in _fit_and_score\n",
      "    estimator.fit(X_train, y_train, **fit_params)\n",
      "  File \"c:\\Users\\konda\\AppData\\Local\\Programs\\Python\\Python311\\Lib\\site-packages\\catboost\\core.py\", line 5245, in fit\n",
      "    self._fit(X, y, cat_features, text_features, embedding_features, None, graph, sample_weight, None, None, None, None, baseline, use_best_model,\n",
      "  File \"c:\\Users\\konda\\AppData\\Local\\Programs\\Python\\Python311\\Lib\\site-packages\\catboost\\core.py\", line 2395, in _fit\n",
      "    train_params = self._prepare_train_params(\n",
      "                   ^^^^^^^^^^^^^^^^^^^^^^^^^^^\n",
      "  File \"c:\\Users\\konda\\AppData\\Local\\Programs\\Python\\Python311\\Lib\\site-packages\\catboost\\core.py\", line 2321, in _prepare_train_params\n",
      "    _check_train_params(params)\n",
      "  File \"_catboost.pyx\", line 6583, in _catboost._check_train_params\n",
      "  File \"_catboost.pyx\", line 6605, in _catboost._check_train_params\n",
      "_catboost.CatBoostError: catboost/private/libs/options/oblivious_tree_options.cpp:128: Maximum tree depth is 16\n",
      "\n",
      "  warnings.warn(some_fits_failed_message, FitFailedWarning)\n",
      "c:\\Users\\konda\\AppData\\Local\\Programs\\Python\\Python311\\Lib\\site-packages\\sklearn\\model_selection\\_search.py:952: UserWarning: One or more of the test scores are non-finite: [0.84302083        nan        nan 0.85677083        nan]\n",
      "  warnings.warn(\n"
     ]
    },
    {
     "name": "stdout",
     "output_type": "stream",
     "text": [
      "0:\tlearn: 0.6602069\ttotal: 7.86ms\tremaining: 2.35s\n",
      "1:\tlearn: 0.6275246\ttotal: 14.6ms\tremaining: 2.17s\n",
      "2:\tlearn: 0.6008960\ttotal: 22.7ms\tremaining: 2.24s\n",
      "3:\tlearn: 0.5748685\ttotal: 32.1ms\tremaining: 2.37s\n",
      "4:\tlearn: 0.5530125\ttotal: 48.4ms\tremaining: 2.85s\n",
      "5:\tlearn: 0.5344464\ttotal: 55.6ms\tremaining: 2.72s\n",
      "6:\tlearn: 0.5183176\ttotal: 66.4ms\tremaining: 2.78s\n",
      "7:\tlearn: 0.5041449\ttotal: 76.1ms\tremaining: 2.78s\n",
      "8:\tlearn: 0.4891921\ttotal: 83.3ms\tremaining: 2.69s\n",
      "9:\tlearn: 0.4775771\ttotal: 92.8ms\tremaining: 2.69s\n",
      "10:\tlearn: 0.4661927\ttotal: 101ms\tremaining: 2.64s\n",
      "11:\tlearn: 0.4564323\ttotal: 110ms\tremaining: 2.63s\n",
      "12:\tlearn: 0.4476695\ttotal: 116ms\tremaining: 2.55s\n",
      "13:\tlearn: 0.4404187\ttotal: 124ms\tremaining: 2.54s\n",
      "14:\tlearn: 0.4343335\ttotal: 131ms\tremaining: 2.49s\n",
      "15:\tlearn: 0.4279110\ttotal: 139ms\tremaining: 2.47s\n",
      "16:\tlearn: 0.4222231\ttotal: 145ms\tremaining: 2.41s\n",
      "17:\tlearn: 0.4169686\ttotal: 154ms\tremaining: 2.41s\n",
      "18:\tlearn: 0.4121254\ttotal: 163ms\tremaining: 2.41s\n",
      "19:\tlearn: 0.4071414\ttotal: 172ms\tremaining: 2.4s\n",
      "20:\tlearn: 0.4032574\ttotal: 178ms\tremaining: 2.37s\n",
      "21:\tlearn: 0.3993645\ttotal: 187ms\tremaining: 2.37s\n",
      "22:\tlearn: 0.3958673\ttotal: 198ms\tremaining: 2.39s\n",
      "23:\tlearn: 0.3925193\ttotal: 219ms\tremaining: 2.52s\n",
      "24:\tlearn: 0.3896190\ttotal: 230ms\tremaining: 2.53s\n",
      "25:\tlearn: 0.3871094\ttotal: 242ms\tremaining: 2.55s\n",
      "26:\tlearn: 0.3847901\ttotal: 253ms\tremaining: 2.55s\n",
      "27:\tlearn: 0.3825510\ttotal: 259ms\tremaining: 2.52s\n",
      "28:\tlearn: 0.3803250\ttotal: 272ms\tremaining: 2.54s\n",
      "29:\tlearn: 0.3785910\ttotal: 280ms\tremaining: 2.52s\n",
      "30:\tlearn: 0.3765637\ttotal: 289ms\tremaining: 2.51s\n",
      "31:\tlearn: 0.3748232\ttotal: 300ms\tremaining: 2.51s\n",
      "32:\tlearn: 0.3731226\ttotal: 307ms\tremaining: 2.49s\n",
      "33:\tlearn: 0.3719273\ttotal: 319ms\tremaining: 2.5s\n",
      "34:\tlearn: 0.3704172\ttotal: 332ms\tremaining: 2.51s\n",
      "35:\tlearn: 0.3691926\ttotal: 338ms\tremaining: 2.48s\n",
      "36:\tlearn: 0.3680825\ttotal: 347ms\tremaining: 2.47s\n",
      "37:\tlearn: 0.3670546\ttotal: 354ms\tremaining: 2.44s\n",
      "38:\tlearn: 0.3661232\ttotal: 368ms\tremaining: 2.46s\n",
      "39:\tlearn: 0.3651353\ttotal: 379ms\tremaining: 2.46s\n",
      "40:\tlearn: 0.3640320\ttotal: 397ms\tremaining: 2.5s\n",
      "41:\tlearn: 0.3629403\ttotal: 413ms\tremaining: 2.54s\n",
      "42:\tlearn: 0.3619546\ttotal: 427ms\tremaining: 2.55s\n",
      "43:\tlearn: 0.3611011\ttotal: 439ms\tremaining: 2.56s\n",
      "44:\tlearn: 0.3599911\ttotal: 455ms\tremaining: 2.58s\n",
      "45:\tlearn: 0.3591318\ttotal: 469ms\tremaining: 2.59s\n",
      "46:\tlearn: 0.3584128\ttotal: 481ms\tremaining: 2.59s\n",
      "47:\tlearn: 0.3576303\ttotal: 496ms\tremaining: 2.6s\n",
      "48:\tlearn: 0.3565650\ttotal: 519ms\tremaining: 2.66s\n",
      "49:\tlearn: 0.3558194\ttotal: 532ms\tremaining: 2.66s\n",
      "50:\tlearn: 0.3549144\ttotal: 541ms\tremaining: 2.64s\n",
      "51:\tlearn: 0.3541915\ttotal: 551ms\tremaining: 2.63s\n",
      "52:\tlearn: 0.3536357\ttotal: 559ms\tremaining: 2.6s\n",
      "53:\tlearn: 0.3530033\ttotal: 570ms\tremaining: 2.6s\n",
      "54:\tlearn: 0.3524576\ttotal: 577ms\tremaining: 2.57s\n",
      "55:\tlearn: 0.3519869\ttotal: 591ms\tremaining: 2.57s\n",
      "56:\tlearn: 0.3515177\ttotal: 600ms\tremaining: 2.56s\n",
      "57:\tlearn: 0.3509862\ttotal: 607ms\tremaining: 2.53s\n",
      "58:\tlearn: 0.3505655\ttotal: 618ms\tremaining: 2.52s\n",
      "59:\tlearn: 0.3501823\ttotal: 625ms\tremaining: 2.5s\n",
      "60:\tlearn: 0.3497015\ttotal: 637ms\tremaining: 2.49s\n",
      "61:\tlearn: 0.3491706\ttotal: 646ms\tremaining: 2.48s\n",
      "62:\tlearn: 0.3486589\ttotal: 655ms\tremaining: 2.46s\n",
      "63:\tlearn: 0.3480952\ttotal: 664ms\tremaining: 2.45s\n",
      "64:\tlearn: 0.3474732\ttotal: 675ms\tremaining: 2.44s\n",
      "65:\tlearn: 0.3469719\ttotal: 684ms\tremaining: 2.43s\n",
      "66:\tlearn: 0.3463999\ttotal: 695ms\tremaining: 2.42s\n",
      "67:\tlearn: 0.3459232\ttotal: 703ms\tremaining: 2.4s\n",
      "68:\tlearn: 0.3455527\ttotal: 714ms\tremaining: 2.39s\n",
      "69:\tlearn: 0.3451497\ttotal: 724ms\tremaining: 2.38s\n",
      "70:\tlearn: 0.3447234\ttotal: 736ms\tremaining: 2.38s\n",
      "71:\tlearn: 0.3443227\ttotal: 746ms\tremaining: 2.36s\n",
      "72:\tlearn: 0.3438334\ttotal: 757ms\tremaining: 2.35s\n",
      "73:\tlearn: 0.3433475\ttotal: 767ms\tremaining: 2.34s\n",
      "74:\tlearn: 0.3429349\ttotal: 775ms\tremaining: 2.32s\n",
      "75:\tlearn: 0.3425557\ttotal: 782ms\tremaining: 2.3s\n",
      "76:\tlearn: 0.3421677\ttotal: 789ms\tremaining: 2.29s\n",
      "77:\tlearn: 0.3415956\ttotal: 799ms\tremaining: 2.27s\n",
      "78:\tlearn: 0.3412594\ttotal: 807ms\tremaining: 2.26s\n",
      "79:\tlearn: 0.3408512\ttotal: 814ms\tremaining: 2.24s\n",
      "80:\tlearn: 0.3405691\ttotal: 823ms\tremaining: 2.22s\n",
      "81:\tlearn: 0.3402522\ttotal: 831ms\tremaining: 2.21s\n",
      "82:\tlearn: 0.3400011\ttotal: 840ms\tremaining: 2.2s\n",
      "83:\tlearn: 0.3396758\ttotal: 851ms\tremaining: 2.19s\n",
      "84:\tlearn: 0.3394078\ttotal: 859ms\tremaining: 2.17s\n",
      "85:\tlearn: 0.3390629\ttotal: 865ms\tremaining: 2.15s\n",
      "86:\tlearn: 0.3388910\ttotal: 874ms\tremaining: 2.14s\n",
      "87:\tlearn: 0.3386208\ttotal: 880ms\tremaining: 2.12s\n",
      "88:\tlearn: 0.3383202\ttotal: 890ms\tremaining: 2.11s\n",
      "89:\tlearn: 0.3380257\ttotal: 897ms\tremaining: 2.09s\n",
      "90:\tlearn: 0.3377560\ttotal: 905ms\tremaining: 2.08s\n",
      "91:\tlearn: 0.3374154\ttotal: 912ms\tremaining: 2.06s\n",
      "92:\tlearn: 0.3371470\ttotal: 924ms\tremaining: 2.06s\n",
      "93:\tlearn: 0.3368569\ttotal: 941ms\tremaining: 2.06s\n",
      "94:\tlearn: 0.3364699\ttotal: 949ms\tremaining: 2.05s\n",
      "95:\tlearn: 0.3362318\ttotal: 960ms\tremaining: 2.04s\n",
      "96:\tlearn: 0.3357903\ttotal: 976ms\tremaining: 2.04s\n",
      "97:\tlearn: 0.3355067\ttotal: 992ms\tremaining: 2.04s\n",
      "98:\tlearn: 0.3352023\ttotal: 1.01s\tremaining: 2.04s\n",
      "99:\tlearn: 0.3350031\ttotal: 1.02s\tremaining: 2.05s\n",
      "100:\tlearn: 0.3345789\ttotal: 1.04s\tremaining: 2.06s\n",
      "101:\tlearn: 0.3342793\ttotal: 1.06s\tremaining: 2.05s\n",
      "102:\tlearn: 0.3338559\ttotal: 1.07s\tremaining: 2.05s\n",
      "103:\tlearn: 0.3334810\ttotal: 1.08s\tremaining: 2.04s\n",
      "104:\tlearn: 0.3333829\ttotal: 1.1s\tremaining: 2.04s\n",
      "105:\tlearn: 0.3331695\ttotal: 1.14s\tremaining: 2.08s\n",
      "106:\tlearn: 0.3329578\ttotal: 1.2s\tremaining: 2.16s\n",
      "107:\tlearn: 0.3326073\ttotal: 1.28s\tremaining: 2.27s\n",
      "108:\tlearn: 0.3322621\ttotal: 1.31s\tremaining: 2.3s\n",
      "109:\tlearn: 0.3320207\ttotal: 1.42s\tremaining: 2.45s\n",
      "110:\tlearn: 0.3318291\ttotal: 1.44s\tremaining: 2.46s\n",
      "111:\tlearn: 0.3315087\ttotal: 1.53s\tremaining: 2.58s\n",
      "112:\tlearn: 0.3312635\ttotal: 1.59s\tremaining: 2.63s\n",
      "113:\tlearn: 0.3310076\ttotal: 1.61s\tremaining: 2.63s\n",
      "114:\tlearn: 0.3307878\ttotal: 1.63s\tremaining: 2.62s\n",
      "115:\tlearn: 0.3305466\ttotal: 1.64s\tremaining: 2.6s\n",
      "116:\tlearn: 0.3303699\ttotal: 1.66s\tremaining: 2.6s\n",
      "117:\tlearn: 0.3301008\ttotal: 1.67s\tremaining: 2.58s\n",
      "118:\tlearn: 0.3298543\ttotal: 1.68s\tremaining: 2.56s\n",
      "119:\tlearn: 0.3295949\ttotal: 1.69s\tremaining: 2.54s\n",
      "120:\tlearn: 0.3293712\ttotal: 1.71s\tremaining: 2.53s\n",
      "121:\tlearn: 0.3290676\ttotal: 1.72s\tremaining: 2.51s\n",
      "122:\tlearn: 0.3288805\ttotal: 1.73s\tremaining: 2.49s\n",
      "123:\tlearn: 0.3286870\ttotal: 1.74s\tremaining: 2.48s\n",
      "124:\tlearn: 0.3284245\ttotal: 1.76s\tremaining: 2.47s\n",
      "125:\tlearn: 0.3282675\ttotal: 1.79s\tremaining: 2.47s\n",
      "126:\tlearn: 0.3279935\ttotal: 1.8s\tremaining: 2.46s\n",
      "127:\tlearn: 0.3277913\ttotal: 1.82s\tremaining: 2.45s\n",
      "128:\tlearn: 0.3275830\ttotal: 1.86s\tremaining: 2.46s\n",
      "129:\tlearn: 0.3272880\ttotal: 1.88s\tremaining: 2.45s\n",
      "130:\tlearn: 0.3270117\ttotal: 1.89s\tremaining: 2.44s\n",
      "131:\tlearn: 0.3267842\ttotal: 1.91s\tremaining: 2.43s\n",
      "132:\tlearn: 0.3265961\ttotal: 1.96s\tremaining: 2.46s\n",
      "133:\tlearn: 0.3263837\ttotal: 2.02s\tremaining: 2.51s\n",
      "134:\tlearn: 0.3261701\ttotal: 2.09s\tremaining: 2.55s\n",
      "135:\tlearn: 0.3259360\ttotal: 2.19s\tremaining: 2.64s\n",
      "136:\tlearn: 0.3256272\ttotal: 2.21s\tremaining: 2.63s\n",
      "137:\tlearn: 0.3254619\ttotal: 2.28s\tremaining: 2.68s\n",
      "138:\tlearn: 0.3253176\ttotal: 2.3s\tremaining: 2.67s\n",
      "139:\tlearn: 0.3250945\ttotal: 2.36s\tremaining: 2.7s\n",
      "140:\tlearn: 0.3248618\ttotal: 2.38s\tremaining: 2.68s\n",
      "141:\tlearn: 0.3246461\ttotal: 2.38s\tremaining: 2.65s\n",
      "142:\tlearn: 0.3245085\ttotal: 2.4s\tremaining: 2.63s\n",
      "143:\tlearn: 0.3243285\ttotal: 2.42s\tremaining: 2.63s\n",
      "144:\tlearn: 0.3240157\ttotal: 2.44s\tremaining: 2.61s\n",
      "145:\tlearn: 0.3237540\ttotal: 2.45s\tremaining: 2.58s\n",
      "146:\tlearn: 0.3234912\ttotal: 2.46s\tremaining: 2.56s\n",
      "147:\tlearn: 0.3232378\ttotal: 2.46s\tremaining: 2.53s\n",
      "148:\tlearn: 0.3229561\ttotal: 2.48s\tremaining: 2.51s\n",
      "149:\tlearn: 0.3227225\ttotal: 2.48s\tremaining: 2.48s\n",
      "150:\tlearn: 0.3225282\ttotal: 2.49s\tremaining: 2.46s\n",
      "151:\tlearn: 0.3222969\ttotal: 2.5s\tremaining: 2.43s\n",
      "152:\tlearn: 0.3220519\ttotal: 2.51s\tremaining: 2.41s\n",
      "153:\tlearn: 0.3218538\ttotal: 2.52s\tremaining: 2.39s\n",
      "154:\tlearn: 0.3216601\ttotal: 2.53s\tremaining: 2.36s\n",
      "155:\tlearn: 0.3213882\ttotal: 2.53s\tremaining: 2.34s\n",
      "156:\tlearn: 0.3212386\ttotal: 2.54s\tremaining: 2.31s\n",
      "157:\tlearn: 0.3211084\ttotal: 2.55s\tremaining: 2.29s\n",
      "158:\tlearn: 0.3209803\ttotal: 2.58s\tremaining: 2.28s\n",
      "159:\tlearn: 0.3207731\ttotal: 2.59s\tremaining: 2.27s\n",
      "160:\tlearn: 0.3205590\ttotal: 2.61s\tremaining: 2.25s\n",
      "161:\tlearn: 0.3203910\ttotal: 2.62s\tremaining: 2.23s\n",
      "162:\tlearn: 0.3201439\ttotal: 2.63s\tremaining: 2.21s\n",
      "163:\tlearn: 0.3198868\ttotal: 2.64s\tremaining: 2.19s\n",
      "164:\tlearn: 0.3197587\ttotal: 2.65s\tremaining: 2.17s\n",
      "165:\tlearn: 0.3195094\ttotal: 2.66s\tremaining: 2.15s\n",
      "166:\tlearn: 0.3192480\ttotal: 2.67s\tremaining: 2.13s\n",
      "167:\tlearn: 0.3190209\ttotal: 2.68s\tremaining: 2.1s\n",
      "168:\tlearn: 0.3189222\ttotal: 2.68s\tremaining: 2.08s\n",
      "169:\tlearn: 0.3187326\ttotal: 2.69s\tremaining: 2.06s\n",
      "170:\tlearn: 0.3184529\ttotal: 2.7s\tremaining: 2.04s\n",
      "171:\tlearn: 0.3183070\ttotal: 2.7s\tremaining: 2.01s\n",
      "172:\tlearn: 0.3181703\ttotal: 2.71s\tremaining: 1.99s\n",
      "173:\tlearn: 0.3179076\ttotal: 2.72s\tremaining: 1.97s\n",
      "174:\tlearn: 0.3176479\ttotal: 2.73s\tremaining: 1.95s\n",
      "175:\tlearn: 0.3173868\ttotal: 2.74s\tremaining: 1.93s\n",
      "176:\tlearn: 0.3171563\ttotal: 2.75s\tremaining: 1.91s\n",
      "177:\tlearn: 0.3170266\ttotal: 2.76s\tremaining: 1.89s\n",
      "178:\tlearn: 0.3167195\ttotal: 2.76s\tremaining: 1.87s\n",
      "179:\tlearn: 0.3164232\ttotal: 2.77s\tremaining: 1.84s\n",
      "180:\tlearn: 0.3163056\ttotal: 2.78s\tremaining: 1.83s\n",
      "181:\tlearn: 0.3160621\ttotal: 2.78s\tremaining: 1.8s\n",
      "182:\tlearn: 0.3158414\ttotal: 2.79s\tremaining: 1.79s\n",
      "183:\tlearn: 0.3156207\ttotal: 2.8s\tremaining: 1.77s\n",
      "184:\tlearn: 0.3154832\ttotal: 2.81s\tremaining: 1.75s\n",
      "185:\tlearn: 0.3152073\ttotal: 2.82s\tremaining: 1.73s\n",
      "186:\tlearn: 0.3149227\ttotal: 2.83s\tremaining: 1.71s\n",
      "187:\tlearn: 0.3146195\ttotal: 2.83s\tremaining: 1.69s\n",
      "188:\tlearn: 0.3143856\ttotal: 2.84s\tremaining: 1.67s\n",
      "189:\tlearn: 0.3143075\ttotal: 2.85s\tremaining: 1.65s\n",
      "190:\tlearn: 0.3141574\ttotal: 2.86s\tremaining: 1.63s\n",
      "191:\tlearn: 0.3139464\ttotal: 2.87s\tremaining: 1.61s\n",
      "192:\tlearn: 0.3137713\ttotal: 2.88s\tremaining: 1.59s\n",
      "193:\tlearn: 0.3135193\ttotal: 2.89s\tremaining: 1.58s\n",
      "194:\tlearn: 0.3133655\ttotal: 2.89s\tremaining: 1.56s\n",
      "195:\tlearn: 0.3130932\ttotal: 2.9s\tremaining: 1.54s\n",
      "196:\tlearn: 0.3130446\ttotal: 2.91s\tremaining: 1.52s\n",
      "197:\tlearn: 0.3128752\ttotal: 2.92s\tremaining: 1.5s\n",
      "198:\tlearn: 0.3127997\ttotal: 2.93s\tremaining: 1.49s\n",
      "199:\tlearn: 0.3127837\ttotal: 2.94s\tremaining: 1.47s\n",
      "200:\tlearn: 0.3125844\ttotal: 2.94s\tremaining: 1.45s\n",
      "201:\tlearn: 0.3123212\ttotal: 2.95s\tremaining: 1.43s\n",
      "202:\tlearn: 0.3120036\ttotal: 2.96s\tremaining: 1.41s\n",
      "203:\tlearn: 0.3116742\ttotal: 2.97s\tremaining: 1.4s\n",
      "204:\tlearn: 0.3113604\ttotal: 2.97s\tremaining: 1.38s\n",
      "205:\tlearn: 0.3111089\ttotal: 2.98s\tremaining: 1.36s\n",
      "206:\tlearn: 0.3108819\ttotal: 2.99s\tremaining: 1.34s\n",
      "207:\tlearn: 0.3106691\ttotal: 3s\tremaining: 1.33s\n",
      "208:\tlearn: 0.3103625\ttotal: 3s\tremaining: 1.31s\n",
      "209:\tlearn: 0.3101163\ttotal: 3.01s\tremaining: 1.29s\n",
      "210:\tlearn: 0.3099127\ttotal: 3.02s\tremaining: 1.27s\n",
      "211:\tlearn: 0.3097059\ttotal: 3.03s\tremaining: 1.26s\n",
      "212:\tlearn: 0.3094616\ttotal: 3.04s\tremaining: 1.24s\n",
      "213:\tlearn: 0.3092026\ttotal: 3.04s\tremaining: 1.22s\n",
      "214:\tlearn: 0.3090439\ttotal: 3.05s\tremaining: 1.21s\n",
      "215:\tlearn: 0.3087340\ttotal: 3.05s\tremaining: 1.19s\n",
      "216:\tlearn: 0.3083944\ttotal: 3.06s\tremaining: 1.17s\n",
      "217:\tlearn: 0.3081839\ttotal: 3.07s\tremaining: 1.15s\n",
      "218:\tlearn: 0.3080664\ttotal: 3.08s\tremaining: 1.14s\n",
      "219:\tlearn: 0.3078882\ttotal: 3.08s\tremaining: 1.12s\n",
      "220:\tlearn: 0.3076316\ttotal: 3.08s\tremaining: 1.1s\n",
      "221:\tlearn: 0.3073574\ttotal: 3.09s\tremaining: 1.09s\n",
      "222:\tlearn: 0.3070962\ttotal: 3.1s\tremaining: 1.07s\n",
      "223:\tlearn: 0.3070565\ttotal: 3.1s\tremaining: 1.05s\n",
      "224:\tlearn: 0.3068485\ttotal: 3.11s\tremaining: 1.04s\n",
      "225:\tlearn: 0.3065049\ttotal: 3.11s\tremaining: 1.02s\n",
      "226:\tlearn: 0.3061594\ttotal: 3.12s\tremaining: 1s\n",
      "227:\tlearn: 0.3061112\ttotal: 3.13s\tremaining: 988ms\n",
      "228:\tlearn: 0.3058176\ttotal: 3.13s\tremaining: 971ms\n",
      "229:\tlearn: 0.3055510\ttotal: 3.14s\tremaining: 955ms\n",
      "230:\tlearn: 0.3052497\ttotal: 3.14s\tremaining: 939ms\n",
      "231:\tlearn: 0.3050012\ttotal: 3.15s\tremaining: 923ms\n",
      "232:\tlearn: 0.3047816\ttotal: 3.16s\tremaining: 908ms\n",
      "233:\tlearn: 0.3046193\ttotal: 3.16s\tremaining: 892ms\n",
      "234:\tlearn: 0.3043616\ttotal: 3.17s\tremaining: 876ms\n",
      "235:\tlearn: 0.3041720\ttotal: 3.17s\tremaining: 861ms\n",
      "236:\tlearn: 0.3038717\ttotal: 3.18s\tremaining: 845ms\n",
      "237:\tlearn: 0.3036789\ttotal: 3.19s\tremaining: 830ms\n",
      "238:\tlearn: 0.3033974\ttotal: 3.19s\tremaining: 815ms\n",
      "239:\tlearn: 0.3032372\ttotal: 3.2s\tremaining: 799ms\n",
      "240:\tlearn: 0.3031868\ttotal: 3.21s\tremaining: 785ms\n",
      "241:\tlearn: 0.3030137\ttotal: 3.21s\tremaining: 770ms\n",
      "242:\tlearn: 0.3029593\ttotal: 3.22s\tremaining: 755ms\n",
      "243:\tlearn: 0.3027591\ttotal: 3.23s\tremaining: 740ms\n",
      "244:\tlearn: 0.3024702\ttotal: 3.23s\tremaining: 726ms\n",
      "245:\tlearn: 0.3022719\ttotal: 3.24s\tremaining: 712ms\n",
      "246:\tlearn: 0.3020327\ttotal: 3.25s\tremaining: 697ms\n",
      "247:\tlearn: 0.3017882\ttotal: 3.26s\tremaining: 683ms\n",
      "248:\tlearn: 0.3014054\ttotal: 3.27s\tremaining: 669ms\n",
      "249:\tlearn: 0.3012020\ttotal: 3.27s\tremaining: 655ms\n",
      "250:\tlearn: 0.3010434\ttotal: 3.28s\tremaining: 641ms\n",
      "251:\tlearn: 0.3009129\ttotal: 3.29s\tremaining: 627ms\n",
      "252:\tlearn: 0.3006302\ttotal: 3.31s\tremaining: 615ms\n",
      "253:\tlearn: 0.3003830\ttotal: 3.32s\tremaining: 601ms\n",
      "254:\tlearn: 0.3001223\ttotal: 3.33s\tremaining: 588ms\n",
      "255:\tlearn: 0.3000073\ttotal: 3.34s\tremaining: 574ms\n",
      "256:\tlearn: 0.2996947\ttotal: 3.35s\tremaining: 560ms\n",
      "257:\tlearn: 0.2994214\ttotal: 3.36s\tremaining: 547ms\n",
      "258:\tlearn: 0.2991202\ttotal: 3.37s\tremaining: 533ms\n",
      "259:\tlearn: 0.2988418\ttotal: 3.38s\tremaining: 520ms\n",
      "260:\tlearn: 0.2985889\ttotal: 3.38s\tremaining: 506ms\n",
      "261:\tlearn: 0.2983980\ttotal: 3.4s\tremaining: 492ms\n",
      "262:\tlearn: 0.2981601\ttotal: 3.4s\tremaining: 479ms\n",
      "263:\tlearn: 0.2979319\ttotal: 3.42s\tremaining: 466ms\n",
      "264:\tlearn: 0.2976490\ttotal: 3.43s\tremaining: 453ms\n",
      "265:\tlearn: 0.2972638\ttotal: 3.43s\tremaining: 439ms\n",
      "266:\tlearn: 0.2970794\ttotal: 3.44s\tremaining: 425ms\n",
      "267:\tlearn: 0.2968761\ttotal: 3.44s\tremaining: 411ms\n",
      "268:\tlearn: 0.2966160\ttotal: 3.45s\tremaining: 398ms\n",
      "269:\tlearn: 0.2964168\ttotal: 3.45s\tremaining: 384ms\n",
      "270:\tlearn: 0.2961312\ttotal: 3.46s\tremaining: 371ms\n",
      "271:\tlearn: 0.2958525\ttotal: 3.47s\tremaining: 357ms\n",
      "272:\tlearn: 0.2956960\ttotal: 3.48s\tremaining: 344ms\n",
      "273:\tlearn: 0.2955498\ttotal: 3.48s\tremaining: 331ms\n",
      "274:\tlearn: 0.2952878\ttotal: 3.49s\tremaining: 317ms\n",
      "275:\tlearn: 0.2949862\ttotal: 3.5s\tremaining: 304ms\n",
      "276:\tlearn: 0.2947926\ttotal: 3.5s\tremaining: 291ms\n",
      "277:\tlearn: 0.2945856\ttotal: 3.51s\tremaining: 278ms\n",
      "278:\tlearn: 0.2944222\ttotal: 3.52s\tremaining: 265ms\n",
      "279:\tlearn: 0.2942409\ttotal: 3.52s\tremaining: 252ms\n",
      "280:\tlearn: 0.2939673\ttotal: 3.53s\tremaining: 239ms\n",
      "281:\tlearn: 0.2938808\ttotal: 3.54s\tremaining: 226ms\n",
      "282:\tlearn: 0.2935689\ttotal: 3.54s\tremaining: 213ms\n",
      "283:\tlearn: 0.2933050\ttotal: 3.55s\tremaining: 200ms\n",
      "284:\tlearn: 0.2930797\ttotal: 3.56s\tremaining: 187ms\n",
      "285:\tlearn: 0.2928810\ttotal: 3.57s\tremaining: 175ms\n",
      "286:\tlearn: 0.2926289\ttotal: 3.58s\tremaining: 162ms\n",
      "287:\tlearn: 0.2924544\ttotal: 3.58s\tremaining: 149ms\n",
      "288:\tlearn: 0.2923054\ttotal: 3.59s\tremaining: 137ms\n",
      "289:\tlearn: 0.2920149\ttotal: 3.6s\tremaining: 124ms\n",
      "290:\tlearn: 0.2917935\ttotal: 3.61s\tremaining: 112ms\n",
      "291:\tlearn: 0.2916567\ttotal: 3.62s\tremaining: 99.2ms\n",
      "292:\tlearn: 0.2913329\ttotal: 3.63s\tremaining: 86.8ms\n",
      "293:\tlearn: 0.2911963\ttotal: 3.64s\tremaining: 74.4ms\n",
      "294:\tlearn: 0.2909491\ttotal: 3.66s\tremaining: 62ms\n",
      "295:\tlearn: 0.2907033\ttotal: 3.67s\tremaining: 49.6ms\n",
      "296:\tlearn: 0.2905386\ttotal: 3.68s\tremaining: 37.2ms\n",
      "297:\tlearn: 0.2903847\ttotal: 3.69s\tremaining: 24.8ms\n",
      "298:\tlearn: 0.2901764\ttotal: 3.7s\tremaining: 12.4ms\n",
      "299:\tlearn: 0.2899744\ttotal: 3.7s\tremaining: 0us\n"
     ]
    },
    {
     "data": {
      "text/html": [
       "<style>#sk-container-id-1 {color: black;background-color: white;}#sk-container-id-1 pre{padding: 0;}#sk-container-id-1 div.sk-toggleable {background-color: white;}#sk-container-id-1 label.sk-toggleable__label {cursor: pointer;display: block;width: 100%;margin-bottom: 0;padding: 0.3em;box-sizing: border-box;text-align: center;}#sk-container-id-1 label.sk-toggleable__label-arrow:before {content: \"▸\";float: left;margin-right: 0.25em;color: #696969;}#sk-container-id-1 label.sk-toggleable__label-arrow:hover:before {color: black;}#sk-container-id-1 div.sk-estimator:hover label.sk-toggleable__label-arrow:before {color: black;}#sk-container-id-1 div.sk-toggleable__content {max-height: 0;max-width: 0;overflow: hidden;text-align: left;background-color: #f0f8ff;}#sk-container-id-1 div.sk-toggleable__content pre {margin: 0.2em;color: black;border-radius: 0.25em;background-color: #f0f8ff;}#sk-container-id-1 input.sk-toggleable__control:checked~div.sk-toggleable__content {max-height: 200px;max-width: 100%;overflow: auto;}#sk-container-id-1 input.sk-toggleable__control:checked~label.sk-toggleable__label-arrow:before {content: \"▾\";}#sk-container-id-1 div.sk-estimator input.sk-toggleable__control:checked~label.sk-toggleable__label {background-color: #d4ebff;}#sk-container-id-1 div.sk-label input.sk-toggleable__control:checked~label.sk-toggleable__label {background-color: #d4ebff;}#sk-container-id-1 input.sk-hidden--visually {border: 0;clip: rect(1px 1px 1px 1px);clip: rect(1px, 1px, 1px, 1px);height: 1px;margin: -1px;overflow: hidden;padding: 0;position: absolute;width: 1px;}#sk-container-id-1 div.sk-estimator {font-family: monospace;background-color: #f0f8ff;border: 1px dotted black;border-radius: 0.25em;box-sizing: border-box;margin-bottom: 0.5em;}#sk-container-id-1 div.sk-estimator:hover {background-color: #d4ebff;}#sk-container-id-1 div.sk-parallel-item::after {content: \"\";width: 100%;border-bottom: 1px solid gray;flex-grow: 1;}#sk-container-id-1 div.sk-label:hover label.sk-toggleable__label {background-color: #d4ebff;}#sk-container-id-1 div.sk-serial::before {content: \"\";position: absolute;border-left: 1px solid gray;box-sizing: border-box;top: 0;bottom: 0;left: 50%;z-index: 0;}#sk-container-id-1 div.sk-serial {display: flex;flex-direction: column;align-items: center;background-color: white;padding-right: 0.2em;padding-left: 0.2em;position: relative;}#sk-container-id-1 div.sk-item {position: relative;z-index: 1;}#sk-container-id-1 div.sk-parallel {display: flex;align-items: stretch;justify-content: center;background-color: white;position: relative;}#sk-container-id-1 div.sk-item::before, #sk-container-id-1 div.sk-parallel-item::before {content: \"\";position: absolute;border-left: 1px solid gray;box-sizing: border-box;top: 0;bottom: 0;left: 50%;z-index: -1;}#sk-container-id-1 div.sk-parallel-item {display: flex;flex-direction: column;z-index: 1;position: relative;background-color: white;}#sk-container-id-1 div.sk-parallel-item:first-child::after {align-self: flex-end;width: 50%;}#sk-container-id-1 div.sk-parallel-item:last-child::after {align-self: flex-start;width: 50%;}#sk-container-id-1 div.sk-parallel-item:only-child::after {width: 0;}#sk-container-id-1 div.sk-dashed-wrapped {border: 1px dashed gray;margin: 0 0.4em 0.5em 0.4em;box-sizing: border-box;padding-bottom: 0.4em;background-color: white;}#sk-container-id-1 div.sk-label label {font-family: monospace;font-weight: bold;display: inline-block;line-height: 1.2em;}#sk-container-id-1 div.sk-label-container {text-align: center;}#sk-container-id-1 div.sk-container {/* jupyter's `normalize.less` sets `[hidden] { display: none; }` but bootstrap.min.css set `[hidden] { display: none !important; }` so we also need the `!important` here to be able to override the default hidden behavior on the sphinx rendered scikit-learn.org. See: https://github.com/scikit-learn/scikit-learn/issues/21755 */display: inline-block !important;position: relative;}#sk-container-id-1 div.sk-text-repr-fallback {display: none;}</style><div id=\"sk-container-id-1\" class=\"sk-top-container\"><div class=\"sk-text-repr-fallback\"><pre>RandomizedSearchCV(cv=3,\n",
       "                   estimator=&lt;catboost.core.CatBoostClassifier object at 0x0000029FBA9845D0&gt;,\n",
       "                   n_iter=5, n_jobs=-1,\n",
       "                   param_distributions={&#x27;learning_rate&#x27;: [0.05, 0.1, 0.2, 0.3,\n",
       "                                                          0.5, 0.6],\n",
       "                                        &#x27;max_depth&#x27;: [5, 10, 15, 20, 25, 30],\n",
       "                                        &#x27;min_child_samples&#x27;: [3, 4, 5, 6, 7],\n",
       "                                        &#x27;n_estimators&#x27;: [100, 200, 300, 400,\n",
       "                                                         500, 600, 700, 800,\n",
       "                                                         900, 1000, 1100,\n",
       "                                                         1200],\n",
       "                                        &#x27;subsample&#x27;: [0.7, 0.6, 0.8]},\n",
       "                   random_state=100, verbose=2)</pre><b>In a Jupyter environment, please rerun this cell to show the HTML representation or trust the notebook. <br />On GitHub, the HTML representation is unable to render, please try loading this page with nbviewer.org.</b></div><div class=\"sk-container\" hidden><div class=\"sk-item sk-dashed-wrapped\"><div class=\"sk-label-container\"><div class=\"sk-label sk-toggleable\"><input class=\"sk-toggleable__control sk-hidden--visually\" id=\"sk-estimator-id-1\" type=\"checkbox\" ><label for=\"sk-estimator-id-1\" class=\"sk-toggleable__label sk-toggleable__label-arrow\">RandomizedSearchCV</label><div class=\"sk-toggleable__content\"><pre>RandomizedSearchCV(cv=3,\n",
       "                   estimator=&lt;catboost.core.CatBoostClassifier object at 0x0000029FBA9845D0&gt;,\n",
       "                   n_iter=5, n_jobs=-1,\n",
       "                   param_distributions={&#x27;learning_rate&#x27;: [0.05, 0.1, 0.2, 0.3,\n",
       "                                                          0.5, 0.6],\n",
       "                                        &#x27;max_depth&#x27;: [5, 10, 15, 20, 25, 30],\n",
       "                                        &#x27;min_child_samples&#x27;: [3, 4, 5, 6, 7],\n",
       "                                        &#x27;n_estimators&#x27;: [100, 200, 300, 400,\n",
       "                                                         500, 600, 700, 800,\n",
       "                                                         900, 1000, 1100,\n",
       "                                                         1200],\n",
       "                                        &#x27;subsample&#x27;: [0.7, 0.6, 0.8]},\n",
       "                   random_state=100, verbose=2)</pre></div></div></div><div class=\"sk-parallel\"><div class=\"sk-parallel-item\"><div class=\"sk-item\"><div class=\"sk-label-container\"><div class=\"sk-label sk-toggleable\"><input class=\"sk-toggleable__control sk-hidden--visually\" id=\"sk-estimator-id-2\" type=\"checkbox\" ><label for=\"sk-estimator-id-2\" class=\"sk-toggleable__label sk-toggleable__label-arrow\">estimator: CatBoostClassifier</label><div class=\"sk-toggleable__content\"><pre>&lt;catboost.core.CatBoostClassifier object at 0x0000029FBA9845D0&gt;</pre></div></div></div><div class=\"sk-serial\"><div class=\"sk-item\"><div class=\"sk-estimator sk-toggleable\"><input class=\"sk-toggleable__control sk-hidden--visually\" id=\"sk-estimator-id-3\" type=\"checkbox\" ><label for=\"sk-estimator-id-3\" class=\"sk-toggleable__label sk-toggleable__label-arrow\">CatBoostClassifier</label><div class=\"sk-toggleable__content\"><pre>&lt;catboost.core.CatBoostClassifier object at 0x0000029FBA9845D0&gt;</pre></div></div></div></div></div></div></div></div></div></div>"
      ],
      "text/plain": [
       "RandomizedSearchCV(cv=3,\n",
       "                   estimator=<catboost.core.CatBoostClassifier object at 0x0000029FBA9845D0>,\n",
       "                   n_iter=5, n_jobs=-1,\n",
       "                   param_distributions={'learning_rate': [0.05, 0.1, 0.2, 0.3,\n",
       "                                                          0.5, 0.6],\n",
       "                                        'max_depth': [5, 10, 15, 20, 25, 30],\n",
       "                                        'min_child_samples': [3, 4, 5, 6, 7],\n",
       "                                        'n_estimators': [100, 200, 300, 400,\n",
       "                                                         500, 600, 700, 800,\n",
       "                                                         900, 1000, 1100,\n",
       "                                                         1200],\n",
       "                                        'subsample': [0.7, 0.6, 0.8]},\n",
       "                   random_state=100, verbose=2)"
      ]
     },
     "execution_count": 30,
     "metadata": {},
     "output_type": "execute_result"
    }
   ],
   "source": [
    "cat_random.fit(X_train, y_train)"
   ]
  },
  {
   "cell_type": "code",
   "execution_count": 31,
   "id": "paperback-seventh",
   "metadata": {},
   "outputs": [
    {
     "data": {
      "text/plain": [
       "{'subsample': 0.6,\n",
       " 'n_estimators': 300,\n",
       " 'min_child_samples': 5,\n",
       " 'max_depth': 5,\n",
       " 'learning_rate': 0.05}"
      ]
     },
     "execution_count": 31,
     "metadata": {},
     "output_type": "execute_result"
    }
   ],
   "source": [
    "cat_random.best_params_"
   ]
  },
  {
   "cell_type": "code",
   "execution_count": 32,
   "id": "scheduled-couple",
   "metadata": {},
   "outputs": [],
   "source": [
    "best_random_grid=cat_random.best_estimator_"
   ]
  },
  {
   "cell_type": "code",
   "execution_count": 33,
   "id": "permanent-dividend",
   "metadata": {},
   "outputs": [
    {
     "name": "stdout",
     "output_type": "stream",
     "text": [
      "[[1821   71]\n",
      " [ 287  221]]\n",
      "Accuracy score 0.8508333333333333\n",
      "Classification report               precision    recall  f1-score   support\n",
      "\n",
      "           0       0.86      0.96      0.91      1892\n",
      "           1       0.76      0.44      0.55       508\n",
      "\n",
      "    accuracy                           0.85      2400\n",
      "   macro avg       0.81      0.70      0.73      2400\n",
      "weighted avg       0.84      0.85      0.83      2400\n",
      "\n"
     ]
    }
   ],
   "source": [
    "from sklearn.metrics import accuracy_score\n",
    "y_pred = best_random_grid.predict(X_test)\n",
    "print(confusion_matrix(y_test,y_pred))\n",
    "print('Accuracy score {}'.format(accuracy_score(y_test,y_pred)))\n",
    "print('Classification report {}'.format(classification_report(y_test,y_pred)))"
   ]
  }
 ],
 "metadata": {
  "kernelspec": {
   "display_name": "Python 3",
   "language": "python",
   "name": "python3"
  },
  "language_info": {
   "codemirror_mode": {
    "name": "ipython",
    "version": 3
   },
   "file_extension": ".py",
   "mimetype": "text/x-python",
   "name": "python",
   "nbconvert_exporter": "python",
   "pygments_lexer": "ipython3",
   "version": "3.11.4"
  }
 },
 "nbformat": 4,
 "nbformat_minor": 5
}
